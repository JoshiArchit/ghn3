{
 "cells": [
  {
   "cell_type": "markdown",
   "id": "22462f65",
   "metadata": {},
   "source": [
    "# Loading GHN-3 and Predicting Parameters for all PyTorch ImageNet models \n",
    "\n",
    "## Paper: Can We Scale Transformers to Predict Parameters of Diverse ImageNet Models?  https://arxiv.org/abs/2303.04143"
   ]
  },
  {
   "cell_type": "code",
   "execution_count": 1,
   "id": "85c7ed79",
   "metadata": {},
   "outputs": [
    {
     "name": "stdout",
     "output_type": "stream",
     "text": [
      "torch 1.12.1+cpu\n",
      "torchvision 0.13.1+cpu\n",
      "Make sure PyTorch: >= 1.12.1 and Torchvision >= 0.13.1 are installed to make our code work properly\n"
     ]
    }
   ],
   "source": [
    "# Import required modules\n",
    "import inspect\n",
    "import types\n",
    "import time\n",
    "import torch\n",
    "import torch.nn as nn\n",
    "import torchvision\n",
    "import torchvision.models as models\n",
    "import joblib\n",
    "from huggingface_hub import hf_hub_download\n",
    "import matplotlib.pyplot as plt\n",
    "from ghn3_utils import from_pretrained\n",
    "from ppuda.deepnets1m.graph import GraphBatch\n",
    "from graph import Graph\n",
    "\n",
    "\n",
    "print('torch', torch.__version__)\n",
    "print('torchvision', torchvision.__version__)\n",
    "print('Make sure PyTorch: >= 1.12.1 and Torchvision >= 0.13.1 are installed to make our code work properly')"
   ]
  },
  {
   "cell_type": "markdown",
   "id": "69ee744c",
   "metadata": {},
   "source": [
    "### Load GHN-3\n",
    "\n",
    "As the model takes about 2.5GB, it takes a while to download the model.\n",
    "\n",
    "The model is downloaded from HuggingFace: https://huggingface.co/SamsungSAILMontreal/ghn3/tree/main."
   ]
  },
  {
   "cell_type": "code",
   "execution_count": 8,
   "id": "ad84b1c9",
   "metadata": {},
   "outputs": [
    {
     "name": "stdout",
     "output_type": "stream",
     "text": [
      "loading GHN-3 done!\n"
     ]
    }
   ],
   "source": [
    "ghn = from_pretrained()"
   ]
  },
  {
   "cell_type": "markdown",
   "id": "9a59e25f",
   "metadata": {},
   "source": [
    "### Predict parameters for ResNet-50 and compare to the downloaded ResNet-50 for sanity check"
   ]
  },
  {
   "cell_type": "code",
   "execution_count": 5,
   "id": "80533f2f",
   "metadata": {
    "scrolled": true
   },
   "outputs": [
    {
     "name": "stdout",
     "output_type": "stream",
     "text": [
      "Parameter prediction for ResNet-50 done in 2.810 seconds\n"
     ]
    },
    {
     "data": {
      "application/vnd.jupyter.widget-view+json": {
       "model_id": "44280cd2b16343629f70e972187a2a44",
       "version_major": 2,
       "version_minor": 0
      },
      "text/plain": [
       "Downloading:   0%|          | 0.00/103M [00:00<?, ?B/s]"
      ]
     },
     "metadata": {},
     "output_type": "display_data"
    },
    {
     "data": {
      "image/png": "[encoded data removed]",
      "text/plain": [
       "<Figure size 288x288 with 1 Axes>"
      ]
     },
     "metadata": {
      "needs_background": "light"
     },
     "output_type": "display_data"
    }
   ],
   "source": [
    "device = 'cuda' if torch.cuda.is_available() else 'cpu'\n",
    "model = models.resnet50()\n",
    "graph = Graph(model)\n",
    "# graph.visualize()  # to visualize ResNet-50 graph\n",
    "start = time.time()\n",
    "model = ghn(model, GraphBatch([graph]).to_device(device))\n",
    "print('Parameter prediction for ResNet-50 done in %.3f seconds' % (time.time() - start))\n",
    "\n",
    "weights = model.conv1.weight.data.cpu()\n",
    "grid = torchvision.utils.make_grid(weights, nrow=8, normalize=True, padding=1)\n",
    "plt.figure(figsize=(4, 4))\n",
    "plt.title(weights.shape)\n",
    "plt.imshow(grid.numpy().transpose((1, 2, 0)))\n",
    "\n",
    "model_sanity_check = models.resnet50()\n",
    "model_sanity_check.load_state_dict(joblib.load(hf_hub_download(repo_id='SamsungSAILMontreal/ghn3',\n",
    "                                                               filename='resnet50_ghn3xlm16_init.pt'))['state_dict'])\n",
    "\n",
    "dict1 = dict(model.named_parameters())\n",
    "for n, p in model_sanity_check.named_parameters():\n",
    "    if not torch.allclose(p, dict1[n], atol=1e-6):\n",
    "        print('warning: big discrepancy {:.3e} for param: {}'.format(torch.norm(p - dict1[n]), n))        "
   ]
  },
  {
   "cell_type": "markdown",
   "id": "ca002e2c",
   "metadata": {},
   "source": [
    "## Predict parameters for all PyTorch models"
   ]
  },
  {
   "cell_type": "code",
   "execution_count": 7,
   "id": "2c645a2c",
   "metadata": {
    "scrolled": false
   },
   "outputs": [
    {
     "name": "stdout",
     "output_type": "stream",
     "text": [
      "REGNET_Y_128GF was not added in PyTorch at the moment of GHN-3 evaluation resulting in 74 models in total\n",
      "VIT_H_14 was not added in PyTorch at the moment of GHN-3 evaluation resulting in 74 models in total\n",
      "74 PyTorch models found\n",
      "Predicting parameters for alexnet with 61.10M parameters\n",
      "Predicting parameters for convnext_base with 88.59M parameters\n",
      "WARNING: number of predicted (88573416) or actual (88591464) parameters must match\n",
      "Predicting parameters for convnext_large with 197.77M parameters\n",
      "WARNING: number of predicted (197740264) or actual (197767336) parameters must match\n",
      "Predicting parameters for convnext_small with 50.22M parameters\n",
      "WARNING: number of predicted (50210152) or actual (50223688) parameters must match\n",
      "Predicting parameters for convnext_tiny with 28.59M parameters\n",
      "WARNING: number of predicted (28582504) or actual (28589128) parameters must match\n",
      "Predicting parameters for densenet121 with 7.98M parameters\n",
      "Predicting parameters for densenet161 with 28.68M parameters\n",
      "Predicting parameters for densenet169 with 14.15M parameters\n",
      "Predicting parameters for densenet201 with 20.01M parameters\n",
      "Predicting parameters for efficientnet_b0 with 5.29M parameters\n",
      "Predicting parameters for efficientnet_b1 with 7.79M parameters\n",
      "Predicting parameters for efficientnet_b2 with 9.11M parameters\n",
      "Predicting parameters for efficientnet_b3 with 12.23M parameters\n",
      "Predicting parameters for efficientnet_b4 with 19.34M parameters\n",
      "Predicting parameters for efficientnet_b5 with 30.39M parameters\n",
      "Predicting parameters for efficientnet_b6 with 43.04M parameters\n",
      "Predicting parameters for efficientnet_b7 with 66.35M parameters\n",
      "Predicting parameters for efficientnet_v2_l with 118.52M parameters\n",
      "Predicting parameters for efficientnet_v2_m with 54.14M parameters\n",
      "Predicting parameters for efficientnet_v2_s with 21.46M parameters\n",
      "Predicting parameters for googlenet with 6.62M parameters\n"
     ]
    },
    {
     "name": "stderr",
     "output_type": "stream",
     "text": [
      "C:\\envs\\torch\\lib\\site-packages\\torchvision\\models\\inception.py:43: FutureWarning: The default weight initialization of inception_v3 will be changed in future releases of torchvision. If you wish to keep the old behavior (which leads to long initialization times due to scipy/scipy#11299), please set init_weights=True.\n",
      "  warnings.warn(\n"
     ]
    },
    {
     "name": "stdout",
     "output_type": "stream",
     "text": [
      "Predicting parameters for inception_v3 with 27.16M parameters\n",
      "Predicting parameters for mnasnet0_5 with 2.22M parameters\n",
      "Predicting parameters for mnasnet0_75 with 3.17M parameters\n",
      "Predicting parameters for mnasnet1_0 with 4.38M parameters\n",
      "Predicting parameters for mnasnet1_3 with 6.28M parameters\n",
      "Predicting parameters for mobilenet_v2 with 3.50M parameters\n",
      "Predicting parameters for mobilenet_v3_large with 5.48M parameters\n",
      "Predicting parameters for mobilenet_v3_small with 2.54M parameters\n",
      "Predicting parameters for regnet_x_16gf with 54.28M parameters\n",
      "Predicting parameters for regnet_x_1_6gf with 9.19M parameters\n",
      "Predicting parameters for regnet_x_32gf with 107.81M parameters\n",
      "Predicting parameters for regnet_x_3_2gf with 15.30M parameters\n",
      "Predicting parameters for regnet_x_400mf with 5.50M parameters\n",
      "Predicting parameters for regnet_x_800mf with 7.26M parameters\n",
      "Predicting parameters for regnet_x_8gf with 39.57M parameters\n",
      "Predicting parameters for regnet_y_16gf with 83.59M parameters\n",
      "Predicting parameters for regnet_y_1_6gf with 11.20M parameters\n",
      "Predicting parameters for regnet_y_32gf with 145.05M parameters\n",
      "Predicting parameters for regnet_y_3_2gf with 19.44M parameters\n",
      "Predicting parameters for regnet_y_400mf with 4.34M parameters\n",
      "Predicting parameters for regnet_y_800mf with 6.43M parameters\n",
      "Predicting parameters for regnet_y_8gf with 39.38M parameters\n",
      "Predicting parameters for resnet101 with 44.55M parameters\n",
      "Predicting parameters for resnet152 with 60.19M parameters\n",
      "Predicting parameters for resnet18 with 11.69M parameters\n",
      "Predicting parameters for resnet34 with 21.80M parameters\n",
      "Predicting parameters for resnet50 with 25.56M parameters\n",
      "Predicting parameters for resnext101_32x8d with 88.79M parameters\n",
      "Predicting parameters for resnext101_64x4d with 83.46M parameters\n",
      "Predicting parameters for resnext50_32x4d with 25.03M parameters\n",
      "Predicting parameters for shufflenet_v2_x0_5 with 1.37M parameters\n",
      "Predicting parameters for shufflenet_v2_x1_0 with 2.28M parameters\n",
      "Predicting parameters for shufflenet_v2_x1_5 with 3.50M parameters\n",
      "Predicting parameters for shufflenet_v2_x2_0 with 7.39M parameters\n",
      "Predicting parameters for squeezenet1_0 with 1.25M parameters\n",
      "Predicting parameters for squeezenet1_1 with 1.24M parameters\n",
      "Predicting parameters for swin_b with 87.77M parameters\n",
      "WARNING: number of predicted (87704680) or actual (87768224) parameters must match\n",
      "Predicting parameters for swin_s with 49.61M parameters\n",
      "WARNING: number of predicted (49558600) or actual (49606258) parameters must match\n",
      "Predicting parameters for swin_t with 28.29M parameters\n",
      "WARNING: number of predicted (28265032) or actual (28288354) parameters must match\n",
      "Predicting parameters for vgg11 with 132.86M parameters\n",
      "Predicting parameters for vgg11_bn with 132.87M parameters\n",
      "Predicting parameters for vgg13 with 133.05M parameters\n",
      "Predicting parameters for vgg13_bn with 133.05M parameters\n",
      "Predicting parameters for vgg16 with 138.36M parameters\n",
      "Predicting parameters for vgg16_bn with 138.37M parameters\n",
      "Predicting parameters for vgg19 with 143.67M parameters\n",
      "Predicting parameters for vgg19_bn with 143.68M parameters\n",
      "Predicting parameters for vit_b_16 with 86.57M parameters\n",
      "WARNING: n_glob_avg should be 1 in most architectures, but is 0 in this architecture\n",
      "WARNING: number of predicted (86566888) or actual (86567656) parameters must match\n",
      "Predicting parameters for vit_b_32 with 88.22M parameters\n",
      "WARNING: n_glob_avg should be 1 in most architectures, but is 0 in this architecture\n",
      "WARNING: number of predicted (88223464) or actual (88224232) parameters must match\n",
      "Predicting parameters for vit_l_16 with 304.33M parameters\n",
      "WARNING: n_glob_avg should be 1 in most architectures, but is 0 in this architecture\n",
      "WARNING: number of predicted (304325608) or actual (304326632) parameters must match\n",
      "Predicting parameters for vit_l_32 with 306.54M parameters\n",
      "WARNING: n_glob_avg should be 1 in most architectures, but is 0 in this architecture\n",
      "WARNING: number of predicted (306534376) or actual (306535400) parameters must match\n",
      "Predicting parameters for wide_resnet101_2 with 126.89M parameters\n",
      "Predicting parameters for wide_resnet50_2 with 68.88M parameters\n",
      "done!\n"
     ]
    }
   ],
   "source": [
    "# Enumerate all PyTorch models of ImageNet classification\n",
    "# Should be >= 74 models in torchvision>=0.13.1\n",
    "all_torch_models = []\n",
    "for m in dir(models):\n",
    "    if m[0].isupper() or m.startswith('_') or m.startswith('get') or \\\n",
    "      not inspect.isfunction(eval('models.%s' % m)):\n",
    "        continue\n",
    "    \n",
    "    if m in ['vit_h_14', 'regnet_y_128gf']:\n",
    "        print('%s was not added in PyTorch at the moment of GHN-3 evaluation resulting in 74 models in total' % m.upper())\n",
    "        continue  # skip for consistency with the paper\n",
    "        \n",
    "    all_torch_models.append(m)\n",
    "    \n",
    "print('%d PyTorch models found' % len(all_torch_models))    \n",
    "            \n",
    "for m in all_torch_models:\n",
    "    kw_args = {'aux_logits': False, 'init_weights': False} if m == 'googlenet' else {}\n",
    "\n",
    "    # Predict parameters\n",
    "    model = eval(f'models.{m}(**kw_args)')\n",
    "    n_params = sum([p.numel() for p in model.parameters()]) / 10**6\n",
    "    if m == 'inception_v3':\n",
    "        model.expected_input_sz = 299\n",
    "    print('Predicting parameters for {} with {:.2f}M parameters'.format(m, n_params), flush=True)\n",
    "    model = ghn(model, GraphBatch([Graph(model)]).to_device(device))\n",
    "    \n",
    "    # \"WARNING: number of predicted ...\" means that some layers in the model are not supported by the GHN\n",
    "\n",
    "print('done!')"
   ]
  },
  {
   "cell_type": "code",
   "execution_count": null,
   "id": "09483937",
   "metadata": {},
   "outputs": [],
   "source": []
  }
 ],
 "metadata": {
  "kernelspec": {
   "display_name": "Python 3 (ipykernel)",
   "language": "python",
   "name": "python3"
  },
  "language_info": {
   "codemirror_mode": {
    "name": "ipython",
    "version": 3
   },
   "file_extension": ".py",
   "mimetype": "text/x-python",
   "name": "python",
   "nbconvert_exporter": "python",
   "pygments_lexer": "ipython3",
   "version": "3.9.13"
  }
 },
 "nbformat": 4,
 "nbformat_minor": 5
}
