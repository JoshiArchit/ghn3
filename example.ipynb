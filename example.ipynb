{
 "cells": [
  {
   "cell_type": "markdown",
   "id": "22462f65",
   "metadata": {},
   "source": [
    "# Loading GHN-3 and Predicting Parameters for all PyTorch ImageNet models \n",
    "\n",
    "## Paper: Can We Scale Transformers to Predict Parameters of Diverse ImageNet Models?  https://arxiv.org/abs/2303.04143\n",
    "\n",
    "Authors: Boris Knyazev, Doha Hwang, Simon Lacoste-Julien"
   ]
  },
  {
   "cell_type": "markdown",
   "id": "4a1a75bb",
   "metadata": {},
   "source": [
    "## 1. Install ppuda (optional, if not installed yet)"
   ]
  },
  {
   "cell_type": "code",
   "execution_count": null,
   "id": "55483d99",
   "metadata": {
    "scrolled": true
   },
   "outputs": [],
   "source": [
    "!pip install git+https://github.com/facebookresearch/ppuda.git\n",
    "!pip show ppuda"
   ]
  },
  {
   "cell_type": "code",
   "execution_count": 1,
   "id": "85c7ed79",
   "metadata": {},
   "outputs": [
    {
     "name": "stdout",
     "output_type": "stream",
     "text": [
      "torch 1.12.1+cpu\n",
      "torchvision 0.13.1+cpu\n",
      "Make sure PyTorch: >= 1.12.1 and Torchvision >= 0.13.1 are installed to make our code work properly\n"
     ]
    }
   ],
   "source": [
    "# Import required modules\n",
    "import inspect\n",
    "import types\n",
    "import time\n",
    "import json\n",
    "import torch\n",
    "import torch.nn as nn\n",
    "import torchvision\n",
    "import torchvision.models as models\n",
    "import joblib\n",
    "import matplotlib.pyplot as plt\n",
    "from huggingface_hub import hf_hub_download\n",
    "from ghn3 import from_pretrained, Graph, GraphBatch\n",
    "\n",
    "\n",
    "print('torch', torch.__version__)\n",
    "print('torchvision', torchvision.__version__)\n",
    "print('Make sure PyTorch: >= 1.12.1 and Torchvision >= 0.13.1 are installed to make our code work properly')"
   ]
  },
  {
   "cell_type": "markdown",
   "id": "69ee744c",
   "metadata": {},
   "source": [
    "## 2. Load GHN-3\n",
    "\n",
    "As the largest and best performing GHN-3 model (`ghn3xlm16`) takes about 2.5GB, it takes a while to download the model.\n",
    "\n",
    "The model is downloaded from HuggingFace: https://huggingface.co/SamsungSAILMontreal/ghn3/tree/main.\n",
    "\n",
    "We made four GHN-3 variants from our paper available: `ghn3tm8, ghn3sm8, ghn3lm8, ghn3xlm16`."
   ]
  },
  {
   "cell_type": "code",
   "execution_count": 2,
   "id": "ad84b1c9",
   "metadata": {},
   "outputs": [
    {
     "name": "stdout",
     "output_type": "stream",
     "text": [
      "loading GHN-3 with 654365184 parameters is done!\n"
     ]
    }
   ],
   "source": [
    "ghn = from_pretrained('ghn3xlm16.pt')  # one of 'ghn3tm8.pt', 'ghn3sm8.pt', 'ghn3lm8.pt', 'ghn3xlm16.pt' (default)"
   ]
  },
  {
   "cell_type": "markdown",
   "id": "9a59e25f",
   "metadata": {},
   "source": [
    "## 3. Predict parameters for ResNet-50 and compare to the downloaded ResNet-50 for sanity check"
   ]
  },
  {
   "cell_type": "code",
   "execution_count": 3,
   "id": "80533f2f",
   "metadata": {
    "scrolled": true
   },
   "outputs": [
    {
     "name": "stdout",
     "output_type": "stream",
     "text": [
      "fine_tuning: True\n",
      "Parameter prediction for ResNet-50 done in 2.852 seconds on cpu\n"
     ]
    },
    {
     "data": {
      "image/png": "[encoded data removed]",
      "text/plain": [
       "<Figure size 288x288 with 1 Axes>"
      ]
     },
     "metadata": {
      "needs_background": "light"
     },
     "output_type": "display_data"
    },
    {
     "name": "stdout",
     "output_type": "stream",
     "text": [
      "Sanity check on ResNet-50 is done!\n"
     ]
    }
   ],
   "source": [
    "device = 'cuda' if torch.cuda.is_available() else 'cpu'\n",
    "\n",
    "fine_tuning = True  # true if predicted parameters will be fined or false for direct evaluation of predicted parameters\n",
    "print('fine_tuning:', fine_tuning)\n",
    "\n",
    "model = models.resnet50()\n",
    "graph = Graph(model)\n",
    "# graph.visualize()  # to visualize ResNet-50 graph\n",
    "start = time.time()\n",
    "model = ghn(model, GraphBatch([graph]).to_device(device), bn_train=not fine_tuning)\n",
    "print('Parameter prediction for ResNet-50 done in %.3f seconds on %s' % (time.time() - start, device))\n",
    "\n",
    "weights = model.conv1.weight.data.cpu()\n",
    "grid = torchvision.utils.make_grid(weights, nrow=8, normalize=True, padding=1)\n",
    "plt.figure(figsize=(4, 4))\n",
    "plt.title(weights.shape)\n",
    "plt.imshow(grid.numpy().transpose((1, 2, 0)))\n",
    "plt.show()\n",
    "\n",
    "model_sanity_check = models.resnet50()\n",
    "model_sanity_check.load_state_dict(joblib.load(hf_hub_download(repo_id='SamsungSAILMontreal/ghn3',\n",
    "                                                               filename='resnet50_ghn3xlm16_init.pt'))['state_dict'])\n",
    "\n",
    "dict1 = dict(model.named_parameters())\n",
    "for n, p in model_sanity_check.named_parameters():\n",
    "    if not torch.allclose(p, dict1[n], atol=1e-6):\n",
    "        print('warning: big discrepancy {:.3e} for param: {}'.format(torch.norm(p - dict1[n]), n))        \n",
    "\n",
    "print('Sanity check on ResNet-50 is done!')        "
   ]
  },
  {
   "cell_type": "markdown",
   "id": "ca002e2c",
   "metadata": {},
   "source": [
    "## 4. Predict parameters for all PyTorch models"
   ]
  },
  {
   "cell_type": "code",
   "execution_count": 4,
   "id": "2c645a2c",
   "metadata": {
    "scrolled": false
   },
   "outputs": [
    {
     "name": "stdout",
     "output_type": "stream",
     "text": [
      "=== REGNET_Y_128GF was not included in PyTorch at the moment of GHN-3 evaluation, so skipping it in this notebook ===\n",
      "=== VIT_H_14 was not included in PyTorch at the moment of GHN-3 evaluation, so skipping it in this notebook ===\n",
      "\n",
      "74 PyTorch models found. Predicting parameters for all...\n",
      "1/74: ALEXNET with 61.10M parameters...done in 2.06 seconds, total param norm=72.4766 (norms matched)\n",
      "2/74: CONVNEXT_BASE with 88.59M parameters...WARNING: number of predicted (88573416) or actual (88591464) parameters must match\n",
      "done in 26.43 seconds, total param norm=355.1909 (norms matched)\n",
      "3/74: CONVNEXT_LARGE with 197.77M parameters...WARNING: number of predicted (197740264) or actual (197767336) parameters must match\n",
      "done in 26.50 seconds, total param norm=399.8319 (norms matched)\n",
      "4/74: CONVNEXT_SMALL with 50.22M parameters...WARNING: number of predicted (50210152) or actual (50223688) parameters must match\n",
      "done in 26.08 seconds, total param norm=286.9353 (norms matched)\n",
      "5/74: CONVNEXT_TINY with 28.59M parameters...WARNING: number of predicted (28582504) or actual (28589128) parameters must match\n",
      "done in 6.17 seconds, total param norm=219.8035 (norms matched)\n",
      "6/74: DENSENET121 with 7.98M parameters...done in 7.49 seconds, total param norm=94.9793 (norms matched)\n",
      "7/74: DENSENET161 with 28.68M parameters...done in 10.55 seconds, total param norm=94.2412 (norms matched)\n",
      "8/74: DENSENET169 with 14.15M parameters...done in 8.48 seconds, total param norm=99.6095 (norms matched)\n",
      "9/74: DENSENET201 with 20.01M parameters...done in 10.10 seconds, total param norm=103.1220 (norms matched)\n",
      "10/74: EFFICIENTNET_B0 with 5.29M parameters...done in 5.93 seconds, total param norm=138.0075 (norms matched)\n",
      "11/74: EFFICIENTNET_B1 with 7.79M parameters...done in 7.42 seconds, total param norm=150.3626 (norms matched)\n",
      "12/74: EFFICIENTNET_B2 with 9.11M parameters...done in 7.38 seconds, total param norm=139.9369 (norms matched)\n",
      "13/74: EFFICIENTNET_B3 with 12.23M parameters...done in 7.48 seconds, total param norm=156.6411 (norms matched)\n",
      "14/74: EFFICIENTNET_B4 with 19.34M parameters...done in 9.32 seconds, total param norm=169.3882 (norms matched)\n",
      "15/74: EFFICIENTNET_B5 with 30.39M parameters...done in 11.11 seconds, total param norm=185.9709 (norms matched)\n",
      "16/74: EFFICIENTNET_B6 with 43.04M parameters...done in 12.56 seconds, total param norm=203.3379 (norms matched)\n",
      "17/74: EFFICIENTNET_B7 with 66.35M parameters...done in 16.38 seconds, total param norm=239.4354 (norms matched)\n",
      "18/74: EFFICIENTNET_V2_L with 118.52M parameters...done in 37.97 seconds, total param norm=278.3611 (norms matched)\n",
      "19/74: EFFICIENTNET_V2_M with 54.14M parameters...done in 12.51 seconds, total param norm=220.8799 (norms matched)\n",
      "20/74: EFFICIENTNET_V2_S with 21.46M parameters...done in 7.46 seconds, total param norm=182.7833 (norms matched)\n",
      "21/74: GOOGLENET with 13.00M parameters...WARNING: node=56-AdaptiveAvgPool2DBackward0 does not have a path to node=153-fc.bias\n",
      "WARNING: node=105-AdaptiveAvgPool2DBackward0 does not have a path to node=153-fc.bias\n",
      "WARNING: n_glob_avg should be 1 in most architectures, but is 3 in this architecture.\n",
      "done in 4.35 seconds, total param norm=98.2371 (norms matched)\n",
      "22/74: INCEPTION_V3 with 27.16M parameters...WARNING: node=162-AvgPool2DBackward0 does not have a path to node=227-fc.bias\n",
      "WARNING: node=175-MeanBackward1 does not have a path to node=227-fc.bias\n",
      "WARNING: n_glob_avg should be 1 in most architectures, but is 2 in this architecture.\n",
      "done in 6.48 seconds, total param norm=118.0063 (norms matched)\n",
      "23/74: MNASNET0_5 with 2.22M parameters...done in 4.95 seconds, total param norm=90.4963 (norms matched)\n",
      "24/74: MNASNET0_75 with 3.17M parameters...done in 4.60 seconds, total param norm=105.2033 (norms matched)\n",
      "25/74: MNASNET1_0 with 4.38M parameters...done in 4.73 seconds, total param norm=117.6445 (norms matched)\n",
      "26/74: MNASNET1_3 with 6.28M parameters...done in 4.82 seconds, total param norm=114.1366 (norms matched)\n",
      "27/74: MOBILENET_V2 with 3.50M parameters...done in 3.63 seconds, total param norm=110.2650 (norms matched)\n",
      "28/74: MOBILENET_V3_LARGE with 5.48M parameters...done in 5.34 seconds, total param norm=87.0672 (norms matched)\n",
      "29/74: MOBILENET_V3_SMALL with 2.54M parameters...done in 4.67 seconds, total param norm=78.9871 (norms matched)\n",
      "30/74: REGNET_X_16GF with 54.28M parameters...done in 3.75 seconds, total param norm=122.6704 (norms matched)\n",
      "31/74: REGNET_X_1_6GF with 9.19M parameters...done in 3.03 seconds, total param norm=115.3575 (norms matched)\n",
      "32/74: REGNET_X_32GF with 107.81M parameters...done in 4.55 seconds, total param norm=125.5922 (norms matched)\n",
      "33/74: REGNET_X_3_2GF with 15.30M parameters...done in 3.94 seconds, total param norm=114.0166 (norms matched)\n",
      "34/74: REGNET_X_400MF with 5.50M parameters...done in 3.78 seconds, total param norm=104.0136 (norms matched)\n",
      "35/74: REGNET_X_800MF with 7.26M parameters...done in 3.21 seconds, total param norm=99.1204 (norms matched)\n",
      "36/74: REGNET_X_8GF with 39.57M parameters...done in 4.15 seconds, total param norm=114.9479 (norms matched)\n",
      "37/74: REGNET_Y_16GF with 83.59M parameters...done in 5.02 seconds, total param norm=170.1522 (norms matched)\n",
      "38/74: REGNET_Y_1_6GF with 11.20M parameters...done in 3.40 seconds, total param norm=124.4934 (norms matched)\n",
      "39/74: REGNET_Y_32GF with 145.05M parameters...done in 2.95 seconds, total param norm=184.0325 (norms matched)\n",
      "40/74: REGNET_Y_3_2GF with 19.44M parameters...done in 5.12 seconds, total param norm=146.1418 (norms matched)\n",
      "41/74: REGNET_Y_400MF with 4.34M parameters...done in 4.45 seconds, total param norm=109.9778 (norms matched)\n",
      "42/74: REGNET_Y_800MF with 6.43M parameters...done in 2.17 seconds, total param norm=127.5576 (norms matched)\n",
      "43/74: REGNET_Y_8GF with 39.38M parameters...done in 2.16 seconds, total param norm=153.8898 (norms matched)\n",
      "44/74: RESNET101 with 44.55M parameters...done in 2.81 seconds, total param norm=117.2542 (norms matched)\n",
      "45/74: RESNET152 with 60.19M parameters...done in 4.09 seconds, total param norm=123.9124 (norms matched)\n",
      "46/74: RESNET18 with 11.69M parameters...done in 1.50 seconds, total param norm=73.9089 (norms matched)\n",
      "47/74: RESNET34 with 21.80M parameters...done in 1.99 seconds, total param norm=75.9910 (norms matched)\n",
      "48/74: RESNET50 with 25.56M parameters...done in 1.81 seconds, total param norm=108.4530 (norms matched)\n",
      "49/74: RESNEXT101_32X8D with 88.79M parameters...done in 3.72 seconds, total param norm=116.0500 (norms matched)\n",
      "50/74: RESNEXT101_64X4D with 83.46M parameters...done in 5.62 seconds, total param norm=115.2008 (norms matched)\n",
      "51/74: RESNEXT50_32X4D with 25.03M parameters...done in 3.64 seconds, total param norm=104.4848 (norms matched)\n",
      "52/74: SHUFFLENET_V2_X0_5 with 1.37M parameters...done in 1.96 seconds, total param norm=83.4845 (norms matched)\n",
      "53/74: SHUFFLENET_V2_X1_0 with 2.28M parameters...done in 1.75 seconds, total param norm=85.5222 (norms matched)\n",
      "54/74: SHUFFLENET_V2_X1_5 with 3.50M parameters...done in 3.01 seconds, total param norm=84.9610 (norms matched)\n",
      "55/74: SHUFFLENET_V2_X2_0 with 7.39M parameters...done in 2.63 seconds, total param norm=100.9075 (norms matched)\n",
      "56/74: SQUEEZENET1_0 with 1.25M parameters...done in 2.28 seconds, total param norm=72.1426 (norms matched)\n",
      "57/74: SQUEEZENET1_1 with 1.24M parameters...done in 2.07 seconds, total param norm=71.4170 (norms matched)\n",
      "58/74: SWIN_B with 87.77M parameters...WARNING: number of predicted (87704680) or actual (87768224) parameters must match\n",
      "done in 3.65 seconds, total param norm=232.2771 (norms matched)\n",
      "59/74: SWIN_S with 49.61M parameters...WARNING: number of predicted (49558600) or actual (49606258) parameters must match\n",
      "done in 3.31 seconds, total param norm=189.2841 (norms matched)\n",
      "60/74: SWIN_T with 28.29M parameters...WARNING: number of predicted (28265032) or actual (28288354) parameters must match\n",
      "done in 1.49 seconds, total param norm=184.6898 (norms matched)\n",
      "61/74: VGG11 with 132.86M parameters...done in 1.50 seconds, total param norm=67.9854 (norms matched)\n",
      "62/74: VGG11_BN with 132.87M parameters...done in 1.34 seconds, total param norm=64.6145 (norms matched)\n",
      "63/74: VGG13 with 133.05M parameters...done in 5.88 seconds, total param norm=59.8383 (norms matched)\n"
     ]
    },
    {
     "name": "stdout",
     "output_type": "stream",
     "text": [
      "64/74: VGG13_BN with 133.05M parameters...done in 1.65 seconds, total param norm=66.5945 (norms matched)\n",
      "65/74: VGG16 with 138.36M parameters...done in 2.35 seconds, total param norm=62.9869 (norms matched)\n",
      "66/74: VGG16_BN with 138.37M parameters...done in 2.42 seconds, total param norm=75.7611 (norms matched)\n",
      "67/74: VGG19 with 143.67M parameters...done in 4.12 seconds, total param norm=64.5850 (norms matched)\n",
      "68/74: VGG19_BN with 143.68M parameters...done in 3.14 seconds, total param norm=73.9692 (norms matched)\n",
      "69/74: VIT_B_16 with 86.57M parameters...WARNING: setting a 4d size (1, 768, 14, 14) instead of 3d (1, 197, 768)\n",
      "WARNING: n_glob_avg should be 1 in most architectures, but is 0 in this architecture.\n",
      "WARNING: number of predicted (86566888) or actual (86567656) parameters must match\n",
      "done in 4.86 seconds, total param norm=366.0770 (norms matched)\n",
      "70/74: VIT_B_32 with 88.22M parameters...WARNING: setting a 4d size (1, 768, 7, 7) instead of 3d (1, 50, 768)\n",
      "WARNING: n_glob_avg should be 1 in most architectures, but is 0 in this architecture.\n",
      "WARNING: number of predicted (88223464) or actual (88224232) parameters must match\n",
      "done in 3.52 seconds, total param norm=358.9109 (norms matched)\n",
      "71/74: VIT_L_16 with 304.33M parameters...WARNING: setting a 4d size (1, 1024, 14, 14) instead of 3d (1, 197, 1024)\n",
      "WARNING: n_glob_avg should be 1 in most architectures, but is 0 in this architecture.\n",
      "WARNING: number of predicted (304325608) or actual (304326632) parameters must match\n",
      "done in 12.45 seconds, total param norm=511.7338 (norms matched)\n",
      "72/74: VIT_L_32 with 306.54M parameters...WARNING: setting a 4d size (1, 1024, 7, 7) instead of 3d (1, 50, 1024)\n",
      "WARNING: n_glob_avg should be 1 in most architectures, but is 0 in this architecture.\n",
      "WARNING: number of predicted (306534376) or actual (306535400) parameters must match\n",
      "done in 10.05 seconds, total param norm=512.3192 (norms matched)\n",
      "73/74: WIDE_RESNET101_2 with 126.89M parameters...done in 6.85 seconds, total param norm=118.1640 (norms matched)\n",
      "74/74: WIDE_RESNET50_2 with 68.88M parameters...done in 3.82 seconds, total param norm=108.5524 (norms matched)\n",
      "\n",
      "done for 74 models in 531.94 seconds, norms matched for 74 models\n"
     ]
    }
   ],
   "source": [
    "with open('ghn3/norms_ghn3xlm16.json', 'r') as f:\n",
    "    norms = json.load(f)\n",
    "    \n",
    "# Enumerate all PyTorch models of ImageNet classification\n",
    "# Should be >= 74 models in torchvision>=0.13.1\n",
    "all_torch_models = []\n",
    "for m in dir(models):\n",
    "    if m[0].isupper() or m.startswith('_') or m.startswith('get') or \\\n",
    "      not inspect.isfunction(eval('models.%s' % m)):\n",
    "        continue\n",
    "    \n",
    "    if m in ['vit_h_14', 'regnet_y_128gf']:\n",
    "        print('=== %s was not included in PyTorch at the moment of GHN-3 evaluation, so skipping it in this notebook ===' \n",
    "              % m.upper())\n",
    "        continue  # skip for consistency with the paper\n",
    "        \n",
    "    all_torch_models.append(m)\n",
    "    \n",
    "print('\\n%d PyTorch models found. Predicting parameters for all...' % len(all_torch_models))    \n",
    "\n",
    "fine_tuning = True  # true if predicted parameters will be fined or false for direct evaluation of predicted parameters\n",
    "start_all = time.time()\n",
    "norms_matched = []\n",
    "for m_ind, m in enumerate(all_torch_models):\n",
    "    kw_args = {'init_weights': False} if m in ['googlenet', 'inception_v3'] else {}\n",
    "\n",
    "    # Predict parameters\n",
    "    model = eval(f'models.{m}(**kw_args)')\n",
    "    n_params = sum([p.numel() for p in model.parameters()]) / 10**6\n",
    "    if m == 'inception_v3':\n",
    "        model.expected_input_sz = 299\n",
    "    print('{}/{}: {} with {:.2f}M parameters'.format(m_ind + 1,\n",
    "                                                     len(all_torch_models),\n",
    "                                                     m.upper(), \n",
    "                                                     n_params), end='...')\n",
    "    start = time.time()\n",
    "    model = ghn(model, GraphBatch([Graph(model)]).to_device(device), bn_train=not fine_tuning)\n",
    "    \n",
    "    total_norm = torch.norm(torch.stack([p.norm() for p in model.parameters()]), 2)\n",
    "    norms_matched.append(abs(norms[m] - total_norm.item()) < 1e-2)\n",
    "    print('done in {:.2f} seconds, total param norm={:.4f} ({})'.\n",
    "          format(time.time() - start,\n",
    "                 total_norm.item(),\n",
    "                 'norms matched' if norms_matched[-1] else ('ERROR: norm not matched with %.2f' % norms[m])))\n",
    "        \n",
    "    # \"WARNING: number of predicted ...\" means that some layers in the model are not supported by the GHN\n",
    "    # unsupported modules are initialized using built-in PyTorch methods\n",
    "\n",
    "print('\\ndone for {} models in {:.2f} seconds, norms matched for {} models'.format(len(norms_matched), \n",
    "                                                                                   time.time() - start_all,\n",
    "                                                                                   sum(norms_matched)))\n"
   ]
  },
  {
   "cell_type": "code",
   "execution_count": null,
   "id": "446c5f76",
   "metadata": {},
   "outputs": [],
   "source": []
  }
 ],
 "metadata": {
  "kernelspec": {
   "display_name": "Python 3 (ipykernel)",
   "language": "python",
   "name": "python3"
  },
  "language_info": {
   "codemirror_mode": {
    "name": "ipython",
    "version": 3
   },
   "file_extension": ".py",
   "mimetype": "text/x-python",
   "name": "python",
   "nbconvert_exporter": "python",
   "pygments_lexer": "ipython3",
   "version": "3.9.13"
  }
 },
 "nbformat": 4,
 "nbformat_minor": 5
}
